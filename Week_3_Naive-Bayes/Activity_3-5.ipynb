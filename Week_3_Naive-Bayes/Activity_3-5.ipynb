{
 "cells": [
  {
   "cell_type": "markdown",
   "id": "2b9b5105",
   "metadata": {},
   "source": [
    "## INFS3081 Predictive Analytics\n",
    "\n",
    "### Practical Activity 3.5: Naive Bayes\n",
    "\n",
    "This notebook is a demonstration of Naive Bayes classifier development for a loan approval prediction problem.\n",
    "\n",
    "#### Learning Objectives:\n",
    "- Understand the k_nearest Neighbours (kNN) algorithm.\n",
    "- Learn how to preprocess and split a dataset.\n",
    "- Train and evaluate a kNN model.\n",
    "- Optimise k by testing multiple values.\n",
    "\n",
    "Installed the package `mixed-naive-bayes` with **pip install mixed-naive-bayes**"
   ]
  },
  {
   "cell_type": "markdown",
   "id": "4ed11b40",
   "metadata": {},
   "source": [
    "#### Predict Loan Eligibility for Dream Housing Finance company\n",
    "Source: https://courses.analyticsvidhya.com/courses/take/loan-prediction-practice-problem-using-python/texts/6119358-problem-statement\n",
    "\n",
    "The dataset comes in csv format, and has the following attributes:\n",
    "\n",
    "| Variable          | Description                                     |\n",
    "| ----------------- | ----------------------------------------------- |\n",
    "| Loan_ID           | Unique Loan ID                                  |\n",
    "| Gender            | Male / Female                                   |\n",
    "| Married           | Applicant married (Y / N)                       |\n",
    "| Dependents        | Number of dependents                            |\n",
    "| Education         | Applicant Education (Graduate / Under Graduate) |\n",
    "| Self_Employed     | Self employed (Y / N)                           |\n",
    "| ApplicantIncome   | Applicant income                                |\n",
    "| CoapplicantIncome | Coapplicant income                              |\n",
    "| LoanAmount        | Loan amount in thousands                        |\n",
    "| Loan_Amount_Term  | Term of loan in months                          |\n",
    "| Credit_History    | Credit history meets guidelines                 |\n",
    "| Property_Area     | Urban / Semi Urban / Rural                      |\n",
    "| Loan_Status       | (Target) Loan approved (Y / N)                  |\n",
    "\n",
    "Our goal is to create a Naive Bayes model that can learn from the training samples, so that we can predict the outcome of a loan application.\n"
   ]
  },
  {
   "cell_type": "code",
   "execution_count": 6,
   "id": "a665935f",
   "metadata": {},
   "outputs": [],
   "source": [
    "# Import the required libraries\n",
    "import pandas as pd\n",
    "from sklearn.model_selection import train_test_split\n",
    "from sklearn import preprocessing"
   ]
  },
  {
   "cell_type": "markdown",
   "id": "f508566b",
   "metadata": {},
   "source": [
    "#### Step 1: Preprocessing\n",
    "First, we load \"loan_prediction\" dataset from the csv file as pandas dataframe and observe first five instances."
   ]
  },
  {
   "cell_type": "code",
   "execution_count": 2,
   "id": "052f26bd",
   "metadata": {},
   "outputs": [
    {
     "data": {
      "application/vnd.microsoft.datawrangler.viewer.v0+json": {
       "columns": [
        {
         "name": "index",
         "rawType": "int64",
         "type": "integer"
        },
        {
         "name": "Loan_ID",
         "rawType": "object",
         "type": "string"
        },
        {
         "name": "Gender",
         "rawType": "object",
         "type": "string"
        },
        {
         "name": "Married",
         "rawType": "object",
         "type": "string"
        },
        {
         "name": "Dependents",
         "rawType": "object",
         "type": "string"
        },
        {
         "name": "Education",
         "rawType": "object",
         "type": "string"
        },
        {
         "name": "Self_Employed",
         "rawType": "object",
         "type": "string"
        },
        {
         "name": "ApplicantIncome",
         "rawType": "int64",
         "type": "integer"
        },
        {
         "name": "CoapplicantIncome",
         "rawType": "float64",
         "type": "float"
        },
        {
         "name": "LoanAmount",
         "rawType": "float64",
         "type": "float"
        },
        {
         "name": "Loan_Amount_Term",
         "rawType": "float64",
         "type": "float"
        },
        {
         "name": "Credit_History",
         "rawType": "float64",
         "type": "float"
        },
        {
         "name": "Property_Area",
         "rawType": "object",
         "type": "string"
        },
        {
         "name": "Loan_Status",
         "rawType": "object",
         "type": "string"
        }
       ],
       "conversionMethod": "pd.DataFrame",
       "ref": "1c453d5e-824b-41f8-9b38-fd122167d34b",
       "rows": [
        [
         "0",
         "LP001003",
         "Male",
         "Yes",
         "1",
         "Graduate",
         "No",
         "4583",
         "1508.0",
         "128.0",
         "360.0",
         "1.0",
         "Rural",
         "N"
        ],
        [
         "1",
         "LP001005",
         "Male",
         "Yes",
         "0",
         "Graduate",
         "Yes",
         "3000",
         "0.0",
         "66.0",
         "360.0",
         "1.0",
         "Urban",
         "Y"
        ],
        [
         "2",
         "LP001006",
         "Male",
         "Yes",
         "0",
         "Not Graduate",
         "No",
         "2583",
         "2358.0",
         "120.0",
         "360.0",
         "1.0",
         "Urban",
         "Y"
        ],
        [
         "3",
         "LP001008",
         "Male",
         "No",
         "0",
         "Graduate",
         "No",
         "6000",
         "0.0",
         "141.0",
         "360.0",
         "1.0",
         "Urban",
         "Y"
        ],
        [
         "4",
         "LP001011",
         "Male",
         "Yes",
         "2",
         "Graduate",
         "Yes",
         "5417",
         "4196.0",
         "267.0",
         "360.0",
         "1.0",
         "Urban",
         "Y"
        ]
       ],
       "shape": {
        "columns": 13,
        "rows": 5
       }
      },
      "text/html": [
       "<div>\n",
       "<style scoped>\n",
       "    .dataframe tbody tr th:only-of-type {\n",
       "        vertical-align: middle;\n",
       "    }\n",
       "\n",
       "    .dataframe tbody tr th {\n",
       "        vertical-align: top;\n",
       "    }\n",
       "\n",
       "    .dataframe thead th {\n",
       "        text-align: right;\n",
       "    }\n",
       "</style>\n",
       "<table border=\"1\" class=\"dataframe\">\n",
       "  <thead>\n",
       "    <tr style=\"text-align: right;\">\n",
       "      <th></th>\n",
       "      <th>Loan_ID</th>\n",
       "      <th>Gender</th>\n",
       "      <th>Married</th>\n",
       "      <th>Dependents</th>\n",
       "      <th>Education</th>\n",
       "      <th>Self_Employed</th>\n",
       "      <th>ApplicantIncome</th>\n",
       "      <th>CoapplicantIncome</th>\n",
       "      <th>LoanAmount</th>\n",
       "      <th>Loan_Amount_Term</th>\n",
       "      <th>Credit_History</th>\n",
       "      <th>Property_Area</th>\n",
       "      <th>Loan_Status</th>\n",
       "    </tr>\n",
       "  </thead>\n",
       "  <tbody>\n",
       "    <tr>\n",
       "      <th>0</th>\n",
       "      <td>LP001003</td>\n",
       "      <td>Male</td>\n",
       "      <td>Yes</td>\n",
       "      <td>1</td>\n",
       "      <td>Graduate</td>\n",
       "      <td>No</td>\n",
       "      <td>4583</td>\n",
       "      <td>1508.0</td>\n",
       "      <td>128.0</td>\n",
       "      <td>360.0</td>\n",
       "      <td>1.0</td>\n",
       "      <td>Rural</td>\n",
       "      <td>N</td>\n",
       "    </tr>\n",
       "    <tr>\n",
       "      <th>1</th>\n",
       "      <td>LP001005</td>\n",
       "      <td>Male</td>\n",
       "      <td>Yes</td>\n",
       "      <td>0</td>\n",
       "      <td>Graduate</td>\n",
       "      <td>Yes</td>\n",
       "      <td>3000</td>\n",
       "      <td>0.0</td>\n",
       "      <td>66.0</td>\n",
       "      <td>360.0</td>\n",
       "      <td>1.0</td>\n",
       "      <td>Urban</td>\n",
       "      <td>Y</td>\n",
       "    </tr>\n",
       "    <tr>\n",
       "      <th>2</th>\n",
       "      <td>LP001006</td>\n",
       "      <td>Male</td>\n",
       "      <td>Yes</td>\n",
       "      <td>0</td>\n",
       "      <td>Not Graduate</td>\n",
       "      <td>No</td>\n",
       "      <td>2583</td>\n",
       "      <td>2358.0</td>\n",
       "      <td>120.0</td>\n",
       "      <td>360.0</td>\n",
       "      <td>1.0</td>\n",
       "      <td>Urban</td>\n",
       "      <td>Y</td>\n",
       "    </tr>\n",
       "    <tr>\n",
       "      <th>3</th>\n",
       "      <td>LP001008</td>\n",
       "      <td>Male</td>\n",
       "      <td>No</td>\n",
       "      <td>0</td>\n",
       "      <td>Graduate</td>\n",
       "      <td>No</td>\n",
       "      <td>6000</td>\n",
       "      <td>0.0</td>\n",
       "      <td>141.0</td>\n",
       "      <td>360.0</td>\n",
       "      <td>1.0</td>\n",
       "      <td>Urban</td>\n",
       "      <td>Y</td>\n",
       "    </tr>\n",
       "    <tr>\n",
       "      <th>4</th>\n",
       "      <td>LP001011</td>\n",
       "      <td>Male</td>\n",
       "      <td>Yes</td>\n",
       "      <td>2</td>\n",
       "      <td>Graduate</td>\n",
       "      <td>Yes</td>\n",
       "      <td>5417</td>\n",
       "      <td>4196.0</td>\n",
       "      <td>267.0</td>\n",
       "      <td>360.0</td>\n",
       "      <td>1.0</td>\n",
       "      <td>Urban</td>\n",
       "      <td>Y</td>\n",
       "    </tr>\n",
       "  </tbody>\n",
       "</table>\n",
       "</div>"
      ],
      "text/plain": [
       "    Loan_ID Gender Married Dependents     Education Self_Employed  \\\n",
       "0  LP001003   Male     Yes          1      Graduate            No   \n",
       "1  LP001005   Male     Yes          0      Graduate           Yes   \n",
       "2  LP001006   Male     Yes          0  Not Graduate            No   \n",
       "3  LP001008   Male      No          0      Graduate            No   \n",
       "4  LP001011   Male     Yes          2      Graduate           Yes   \n",
       "\n",
       "   ApplicantIncome  CoapplicantIncome  LoanAmount  Loan_Amount_Term  \\\n",
       "0             4583             1508.0       128.0             360.0   \n",
       "1             3000                0.0        66.0             360.0   \n",
       "2             2583             2358.0       120.0             360.0   \n",
       "3             6000                0.0       141.0             360.0   \n",
       "4             5417             4196.0       267.0             360.0   \n",
       "\n",
       "   Credit_History Property_Area Loan_Status  \n",
       "0             1.0         Rural           N  \n",
       "1             1.0         Urban           Y  \n",
       "2             1.0         Urban           Y  \n",
       "3             1.0         Urban           Y  \n",
       "4             1.0         Urban           Y  "
      ]
     },
     "execution_count": 2,
     "metadata": {},
     "output_type": "execute_result"
    }
   ],
   "source": [
    "df = pd.read_csv('loan_prediction.csv')\n",
    "df.head()"
   ]
  },
  {
   "cell_type": "code",
   "execution_count": 3,
   "id": "d2c80ee5",
   "metadata": {},
   "outputs": [
    {
     "data": {
      "text/plain": [
       "Gender\n",
       "Male      394\n",
       "Female     86\n",
       "Name: count, dtype: int64"
      ]
     },
     "execution_count": 3,
     "metadata": {},
     "output_type": "execute_result"
    }
   ],
   "source": [
    "# Inspect the values in the categorical features\n",
    "df['Gender'].value_counts()"
   ]
  },
  {
   "cell_type": "code",
   "execution_count": 4,
   "id": "76d2164c",
   "metadata": {},
   "outputs": [
    {
     "data": {
      "text/plain": [
       "(480, 13)"
      ]
     },
     "execution_count": 4,
     "metadata": {},
     "output_type": "execute_result"
    }
   ],
   "source": [
    "# shape\n",
    "df.shape"
   ]
  },
  {
   "cell_type": "code",
   "execution_count": 5,
   "id": "0ec7f05c",
   "metadata": {},
   "outputs": [
    {
     "name": "stdout",
     "output_type": "stream",
     "text": [
      "<class 'pandas.core.frame.DataFrame'>\n",
      "RangeIndex: 480 entries, 0 to 479\n",
      "Data columns (total 13 columns):\n",
      " #   Column             Non-Null Count  Dtype  \n",
      "---  ------             --------------  -----  \n",
      " 0   Loan_ID            480 non-null    object \n",
      " 1   Gender             480 non-null    object \n",
      " 2   Married            480 non-null    object \n",
      " 3   Dependents         480 non-null    object \n",
      " 4   Education          480 non-null    object \n",
      " 5   Self_Employed      480 non-null    object \n",
      " 6   ApplicantIncome    480 non-null    int64  \n",
      " 7   CoapplicantIncome  480 non-null    float64\n",
      " 8   LoanAmount         480 non-null    float64\n",
      " 9   Loan_Amount_Term   480 non-null    float64\n",
      " 10  Credit_History     480 non-null    float64\n",
      " 11  Property_Area      480 non-null    object \n",
      " 12  Loan_Status        480 non-null    object \n",
      "dtypes: float64(4), int64(1), object(8)\n",
      "memory usage: 48.9+ KB\n"
     ]
    }
   ],
   "source": [
    "df.info()"
   ]
  },
  {
   "cell_type": "markdown",
   "id": "a78e00ec",
   "metadata": {},
   "source": [
    "We get three important pieces of information from shape and info:\n",
    "1. There are 480 instances and 12 features. The target is Loan_Status.\n",
    "2. From the Non-Null Count, we find that there are no missing values. Missing values affect the models adversely.\n",
    "3. dtypes at the bottom of the info summary tells us there are 4 floating point attributes, 1 integer attribute, and 8 object or string valued attributes.\n",
    "\n",
    "We need to encode the categorical attributes."
   ]
  },
  {
   "cell_type": "code",
   "execution_count": 7,
   "id": "0aacf75a",
   "metadata": {},
   "outputs": [],
   "source": [
    "le = preprocessing.LabelEncoder()\n",
    "\n",
    "df['en_gender']        = le.fit_transform(df['Gender'])\n",
    "df['en_married']       = le.fit_transform(df['Married'])\n",
    "df['en_dependents']    = le.fit_transform(df['Dependents'])\n",
    "df['en_education']     = le.fit_transform(df['Education'])\n",
    "df['en_self_employed'] = le.fit_transform(df['Self_Employed'])\n",
    "df['en_parea']         = le.fit_transform(df['Property_Area'])\n",
    "\n",
    "# Encoding the target variable\n",
    "df['target'] = le.fit_transform(df['Loan_Status'])"
   ]
  },
  {
   "cell_type": "code",
   "execution_count": 8,
   "id": "57996cd3",
   "metadata": {},
   "outputs": [
    {
     "data": {
      "text/plain": [
       "['Loan_ID',\n",
       " 'Gender',\n",
       " 'Married',\n",
       " 'Dependents',\n",
       " 'Education',\n",
       " 'Self_Employed',\n",
       " 'ApplicantIncome',\n",
       " 'CoapplicantIncome',\n",
       " 'LoanAmount',\n",
       " 'Loan_Amount_Term',\n",
       " 'Credit_History',\n",
       " 'Property_Area',\n",
       " 'Loan_Status',\n",
       " 'en_gender',\n",
       " 'en_married',\n",
       " 'en_dependents',\n",
       " 'en_education',\n",
       " 'en_self_employed',\n",
       " 'en_parea',\n",
       " 'target']"
      ]
     },
     "execution_count": 8,
     "metadata": {},
     "output_type": "execute_result"
    }
   ],
   "source": [
    "# list the features\n",
    "features = list(df.columns)\n",
    "features"
   ]
  },
  {
   "cell_type": "markdown",
   "id": "83148f30",
   "metadata": {},
   "source": [
    "We need to select the encoded features for our models. Also, loan id is an identifier i.e., it is different for each sample. We will exclude that from our model training."
   ]
  },
  {
   "cell_type": "code",
   "execution_count": 9,
   "id": "ffcc1ebd",
   "metadata": {},
   "outputs": [
    {
     "data": {
      "text/plain": [
       "['ApplicantIncome',\n",
       " 'CoapplicantIncome',\n",
       " 'LoanAmount',\n",
       " 'Loan_Amount_Term',\n",
       " 'Credit_History',\n",
       " 'en_gender',\n",
       " 'en_married',\n",
       " 'en_dependents',\n",
       " 'en_education',\n",
       " 'en_self_employed',\n",
       " 'en_parea']"
      ]
     },
     "execution_count": 9,
     "metadata": {},
     "output_type": "execute_result"
    }
   ],
   "source": [
    "# remove loan id and target from features\n",
    "features.remove('Loan_ID')\n",
    "features.remove('Loan_Status')\n",
    "features.remove('target')\n",
    "\n",
    "# remove the non encoded features from the features list\n",
    "features.remove('Gender')\n",
    "features.remove('Married')\n",
    "features.remove('Dependents')\n",
    "features.remove('Education')\n",
    "features.remove('Self_Employed')\n",
    "features.remove('Property_Area')\n",
    "\n",
    "features"
   ]
  },
  {
   "cell_type": "code",
   "execution_count": 10,
   "id": "0bdeb40d",
   "metadata": {},
   "outputs": [
    {
     "data": {
      "text/plain": [
       "11"
      ]
     },
     "execution_count": 10,
     "metadata": {},
     "output_type": "execute_result"
    }
   ],
   "source": [
    "# making sure we have 11 features in the list\n",
    "len(features)"
   ]
  },
  {
   "cell_type": "markdown",
   "id": "81b7b9ee",
   "metadata": {},
   "source": [
    "Now, we check whether we have equal number of samples for each target class. A dataset where the samples are equally distributed to the target classes is called a balanced dataset. Imbalanced datasets are not good for training models."
   ]
  },
  {
   "cell_type": "code",
   "execution_count": 11,
   "id": "81c57d9c",
   "metadata": {},
   "outputs": [
    {
     "data": {
      "text/plain": [
       "Loan_Status\n",
       "Y    332\n",
       "N    148\n",
       "Name: count, dtype: int64"
      ]
     },
     "execution_count": 11,
     "metadata": {},
     "output_type": "execute_result"
    }
   ],
   "source": [
    "df['Loan_Status'].value_counts()"
   ]
  },
  {
   "cell_type": "markdown",
   "id": "9a9ff236",
   "metadata": {},
   "source": [
    "We observe that our data is not balanced. We have more samples where target class is Y than samples of class N. Now we will divide our dataset into training and test sets using a 70/30 split. As our dataset is imbalanced, we must use stratified sampling to split the dataset to ensure representative samples from all the target classes."
   ]
  },
  {
   "cell_type": "code",
   "execution_count": 13,
   "id": "2d41d818",
   "metadata": {},
   "outputs": [],
   "source": [
    "# stratified sampling\n",
    "X_train, X_test, y_train, y_test = train_test_split(df[features], df['target'], test_size=0.3, stratify=df['target'], random_state=42)"
   ]
  },
  {
   "cell_type": "code",
   "execution_count": 14,
   "id": "ef174932",
   "metadata": {},
   "outputs": [
    {
     "data": {
      "text/plain": [
       "target\n",
       "1    100\n",
       "0     44\n",
       "Name: count, dtype: int64"
      ]
     },
     "execution_count": 14,
     "metadata": {},
     "output_type": "execute_result"
    }
   ],
   "source": [
    "# check the class distribution in the test set\n",
    "y_test.value_counts()"
   ]
  },
  {
   "cell_type": "markdown",
   "id": "90206ee2",
   "metadata": {},
   "source": [
    "#### Step 2: Learning the Naive Bayes model\n",
    "To build a Naive Bayes classifier, we can use the implementation of the sklearn package. There are five different methods provided for probability estimation. They are: 1. GaussianNB - for continuous or numeric attributes, 2. MultinomialNB - for nominal or categorical attributes, 3. ComplementNB - improved method for nominal or categorical attributes, 4. BernoulliNB - for binary attributes, 5. CategoricalNB - for nominal or categorical attributes.\n",
    "\n",
    "If our dataset has one type of feature only i.e., datatypes of the features are only numeric or nominal then we can use one of the above implementations to build a predictive model. However, the features in the loan_prediction dataset are of mixed types. Here, we cannot use sklearn.\n",
    "\n",
    "The mixed_naive-bayes 0.0.1 (https://pypi.org/project/mixed-naive-bayes/) provides an implementation of Naive Bayes for mixed attributes. We will use this Python library for this practical.\n",
    "\n",
    "Note: The module expects that we have label encoded the categorical features."
   ]
  },
  {
   "cell_type": "code",
   "execution_count": 15,
   "id": "3027bc74",
   "metadata": {},
   "outputs": [
    {
     "data": {
      "text/plain": [
       "MixedNB(alpha=0.5, var_smoothing=1e-09)"
      ]
     },
     "execution_count": 15,
     "metadata": {},
     "output_type": "execute_result"
    }
   ],
   "source": [
    "# initialise the mixed_naive_bayes library\n",
    "from mixed_naive_bayes import MixedNB\n",
    "\n",
    "# fit the model with the training set\n",
    "clfNB = MixedNB(categorical_features=[5,6,7,8,9,10])\n",
    "# categorical_features is a list of indices of the categorical features in the features list\n",
    "\n",
    "clfNB.fit(X_train, y_train)"
   ]
  },
  {
   "cell_type": "markdown",
   "id": "63736c40",
   "metadata": {},
   "source": [
    "#### Step3: Evaluation\n",
    "We will now evaluate the performance of our model on the test set. That is, we will apply the model to the test set X_test and match the predictions of the model with y_test."
   ]
  },
  {
   "cell_type": "code",
   "execution_count": 16,
   "id": "9b56e9ef",
   "metadata": {},
   "outputs": [
    {
     "data": {
      "text/plain": [
       "array([1, 1, 1, 1, 1, 1, 0, 0, 1, 1, 1, 1, 1, 1, 1, 1, 1, 0, 1, 1, 1, 1,\n",
       "       1, 1, 1, 1, 1, 1, 1, 0, 1, 1, 1, 1, 0, 0, 1, 0, 1, 1, 1, 1, 0, 0,\n",
       "       1, 1, 1, 1, 1, 1, 1, 1, 1, 1, 1, 1, 1, 1, 1, 1, 1, 1, 1, 0, 0, 1,\n",
       "       1, 0, 0, 1, 1, 0, 1, 0, 0, 0, 0, 0, 1, 1, 1, 1, 1, 0, 1, 0, 0, 1,\n",
       "       1, 1, 0, 1, 1, 1, 1, 1, 1, 1, 1, 1, 1, 1, 1, 1, 1, 1, 0, 1, 1, 1,\n",
       "       1, 1, 1, 1, 0, 1, 1, 0, 1, 1, 0, 1, 1, 1, 1, 1, 0, 1, 1, 1, 1, 1,\n",
       "       1, 0, 1, 1, 1, 0, 1, 1, 1, 1, 1, 1])"
      ]
     },
     "execution_count": 16,
     "metadata": {},
     "output_type": "execute_result"
    }
   ],
   "source": [
    "# predictions\n",
    "y_pred = clfNB.predict(X_test)\n",
    "y_pred"
   ]
  },
  {
   "cell_type": "code",
   "execution_count": 17,
   "id": "8f1f3307",
   "metadata": {},
   "outputs": [
    {
     "data": {
      "text/plain": [
       "64     1\n",
       "295    1\n",
       "37     1\n",
       "453    1\n",
       "259    1\n",
       "      ..\n",
       "260    1\n",
       "418    1\n",
       "330    1\n",
       "413    1\n",
       "293    0\n",
       "Name: target, Length: 144, dtype: int64"
      ]
     },
     "execution_count": 17,
     "metadata": {},
     "output_type": "execute_result"
    }
   ],
   "source": [
    "# here is our true labels\n",
    "y_test"
   ]
  },
  {
   "cell_type": "code",
   "execution_count": 18,
   "id": "a690d4a7",
   "metadata": {},
   "outputs": [
    {
     "data": {
      "application/vnd.microsoft.datawrangler.viewer.v0+json": {
       "columns": [
        {
         "name": "index",
         "rawType": "int64",
         "type": "integer"
        },
        {
         "name": "ApplicantIncome",
         "rawType": "int64",
         "type": "integer"
        },
        {
         "name": "CoapplicantIncome",
         "rawType": "float64",
         "type": "float"
        },
        {
         "name": "LoanAmount",
         "rawType": "float64",
         "type": "float"
        },
        {
         "name": "Loan_Amount_Term",
         "rawType": "float64",
         "type": "float"
        },
        {
         "name": "Credit_History",
         "rawType": "float64",
         "type": "float"
        },
        {
         "name": "en_gender",
         "rawType": "int64",
         "type": "integer"
        },
        {
         "name": "en_married",
         "rawType": "int64",
         "type": "integer"
        },
        {
         "name": "en_dependents",
         "rawType": "int64",
         "type": "integer"
        },
        {
         "name": "en_education",
         "rawType": "int64",
         "type": "integer"
        },
        {
         "name": "en_self_employed",
         "rawType": "int64",
         "type": "integer"
        },
        {
         "name": "en_parea",
         "rawType": "int64",
         "type": "integer"
        }
       ],
       "conversionMethod": "pd.DataFrame",
       "ref": "d4f88cfd-0bd4-4a16-acc6-0660366c4517",
       "rows": [
        [
         "64",
         "3846",
         "0.0",
         "111.0",
         "360.0",
         "1.0",
         "0",
         "0",
         "0",
         "0",
         "0",
         "1"
        ]
       ],
       "shape": {
        "columns": 11,
        "rows": 1
       }
      },
      "text/html": [
       "<div>\n",
       "<style scoped>\n",
       "    .dataframe tbody tr th:only-of-type {\n",
       "        vertical-align: middle;\n",
       "    }\n",
       "\n",
       "    .dataframe tbody tr th {\n",
       "        vertical-align: top;\n",
       "    }\n",
       "\n",
       "    .dataframe thead th {\n",
       "        text-align: right;\n",
       "    }\n",
       "</style>\n",
       "<table border=\"1\" class=\"dataframe\">\n",
       "  <thead>\n",
       "    <tr style=\"text-align: right;\">\n",
       "      <th></th>\n",
       "      <th>ApplicantIncome</th>\n",
       "      <th>CoapplicantIncome</th>\n",
       "      <th>LoanAmount</th>\n",
       "      <th>Loan_Amount_Term</th>\n",
       "      <th>Credit_History</th>\n",
       "      <th>en_gender</th>\n",
       "      <th>en_married</th>\n",
       "      <th>en_dependents</th>\n",
       "      <th>en_education</th>\n",
       "      <th>en_self_employed</th>\n",
       "      <th>en_parea</th>\n",
       "    </tr>\n",
       "  </thead>\n",
       "  <tbody>\n",
       "    <tr>\n",
       "      <th>64</th>\n",
       "      <td>3846</td>\n",
       "      <td>0.0</td>\n",
       "      <td>111.0</td>\n",
       "      <td>360.0</td>\n",
       "      <td>1.0</td>\n",
       "      <td>0</td>\n",
       "      <td>0</td>\n",
       "      <td>0</td>\n",
       "      <td>0</td>\n",
       "      <td>0</td>\n",
       "      <td>1</td>\n",
       "    </tr>\n",
       "  </tbody>\n",
       "</table>\n",
       "</div>"
      ],
      "text/plain": [
       "    ApplicantIncome  CoapplicantIncome  LoanAmount  Loan_Amount_Term  \\\n",
       "64             3846                0.0       111.0             360.0   \n",
       "\n",
       "    Credit_History  en_gender  en_married  en_dependents  en_education  \\\n",
       "64             1.0          0           0              0             0   \n",
       "\n",
       "    en_self_employed  en_parea  \n",
       "64                 0         1  "
      ]
     },
     "execution_count": 18,
     "metadata": {},
     "output_type": "execute_result"
    }
   ],
   "source": [
    "# let us take the first test instance for example\n",
    "X_test[0:1]"
   ]
  },
  {
   "cell_type": "code",
   "execution_count": 23,
   "id": "affb00a9",
   "metadata": {},
   "outputs": [
    {
     "data": {
      "text/plain": [
       "array([[0.05735267, 0.94264733]])"
      ]
     },
     "execution_count": 23,
     "metadata": {},
     "output_type": "execute_result"
    }
   ],
   "source": [
    "clfNB.predict_proba(X_test[0:1])"
   ]
  },
  {
   "cell_type": "markdown",
   "id": "3cd394e3",
   "metadata": {},
   "source": [
    "#### Explanation\n",
    "Given an instance x' with features = (3846,0.0,111.0,360.0,1.0,0,0,0,0,0,1) the model predicts:\n",
    "P(Y|x') = 0.057\n",
    "P(N|x') = 0.943\n",
    "\n",
    "We can say that the model predicted that the application is not eligible for a loan."
   ]
  },
  {
   "cell_type": "code",
   "execution_count": 20,
   "id": "d4c1f294",
   "metadata": {},
   "outputs": [
    {
     "data": {
      "text/plain": [
       "0.8333333333333334"
      ]
     },
     "execution_count": 20,
     "metadata": {},
     "output_type": "execute_result"
    }
   ],
   "source": [
    "# measure accuracy\n",
    "from sklearn.metrics import accuracy_score\n",
    "accuracy_score(y_test, y_pred)"
   ]
  },
  {
   "cell_type": "code",
   "execution_count": 21,
   "id": "31c82fdd",
   "metadata": {},
   "outputs": [
    {
     "data": {
      "text/plain": [
       "np.float64(0.8333333333333334)"
      ]
     },
     "execution_count": 21,
     "metadata": {},
     "output_type": "execute_result"
    }
   ],
   "source": [
    "# we can also use the score method of MixedNB to observe the accuracy\n",
    "clfNB.score(X_test, y_test)"
   ]
  },
  {
   "cell_type": "markdown",
   "id": "84744a97",
   "metadata": {},
   "source": [
    "Our Naive Bayes model has 83.33% accuracy on the loan_prediction dataset.\n",
    "\n",
    "In this practical, we work through all the steps required to develop a Naive Bayes model. We used a 70/30 split for training and test sets."
   ]
  }
 ],
 "metadata": {
  "kernelspec": {
   "display_name": ".venv",
   "language": "python",
   "name": "python3"
  },
  "language_info": {
   "codemirror_mode": {
    "name": "ipython",
    "version": 3
   },
   "file_extension": ".py",
   "mimetype": "text/x-python",
   "name": "python",
   "nbconvert_exporter": "python",
   "pygments_lexer": "ipython3",
   "version": "3.10.1"
  }
 },
 "nbformat": 4,
 "nbformat_minor": 5
}
