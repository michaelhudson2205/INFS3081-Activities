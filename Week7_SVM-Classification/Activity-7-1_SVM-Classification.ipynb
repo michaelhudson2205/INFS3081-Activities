{
 "cells": [
  {
   "cell_type": "markdown",
   "id": "9c2c39dd",
   "metadata": {},
   "source": [
    "## Practical Activity Classification using SVM\n",
    "\n",
    "### 1 Practical Activity\n",
    "\n",
    "#### 1.1 Classification Using Support Vector Machines\n",
    "\n",
    "This notebook is an exercise for developing a SVM classifier for predicting customer attrition."
   ]
  },
  {
   "cell_type": "markdown",
   "id": "6e5559a7",
   "metadata": {},
   "source": [
    "### 2 ATH LEAPS Bank Data\n",
    "\n",
    "In this task, we will predict which customers in the future are more likely to churn or to stop availing the bank's services. Once an adequate prediction model is developed, the bank will be better informed on how to develop strategies to retain customers or at least lose less customers in the future.\n",
    "\n",
    "This practical will build a Support Vector Machine in predicting customer attrition using the bank dataset.\n",
    "\n",
    "The last two columns should be deleted."
   ]
  },
  {
   "cell_type": "code",
   "execution_count": 20,
   "id": "9f37ced8",
   "metadata": {},
   "outputs": [],
   "source": [
    "# Loading the required libraries\n",
    "import pandas as pd\n",
    "from sklearn import preprocessing\n",
    "from sklearn.preprocessing import StandardScaler\n",
    "from sklearn.model_selection import train_test_split\n",
    "import numpy as np\n",
    "import matplotlib.pyplot as plt\n",
    "from sklearn import svm\n",
    "from sklearn.metrics import accuracy_score\n",
    "import collections\n",
    "from sklearn.metrics import classification_report"
   ]
  },
  {
   "cell_type": "code",
   "execution_count": null,
   "id": "55b2b2f7",
   "metadata": {},
   "outputs": [
    {
     "data": {
      "text/plain": [
       "Index(['CLIENTNUM', 'Attrition_Flag', 'Customer_Age', 'Gender',\n",
       "       'Dependent_count', 'Education_Level', 'Marital_Status',\n",
       "       'Income_Category', 'Card_Category', 'Months_on_book',\n",
       "       'Total_Relationship_Count', 'Months_Inactive_12_mon',\n",
       "       'Contacts_Count_12_mon', 'Credit_Limit', 'Total_Revolving_Bal',\n",
       "       'Avg_Open_To_Buy', 'Total_Amt_Chng_Q4_Q1', 'Total_Trans_Amt',\n",
       "       'Total_Trans_Ct', 'Total_Ct_Chng_Q4_Q1', 'Avg_Utilization_Ratio',\n",
       "       'Naive_Bayes_Classifier_Attrition_Flag_Card_Category_Contacts_Count_12_mon_Dependent_count_Education_Level_Months_Inactive_12_mon_1',\n",
       "       'Naive_Bayes_Classifier_Attrition_Flag_Card_Category_Contacts_Count_12_mon_Dependent_count_Education_Level_Months_Inactive_12_mon_2'],\n",
       "      dtype='object')"
      ]
     },
     "execution_count": 2,
     "metadata": {},
     "output_type": "execute_result"
    }
   ],
   "source": [
    "# Loading the dataset\n",
    "df = pd.read_csv(\"BankChurners.csv\")\n",
    "\n",
    "# Check the columns\n",
    "df.columns"
   ]
  },
  {
   "cell_type": "markdown",
   "id": "1792829c",
   "metadata": {},
   "source": [
    "After loading the dataset, we remove the unwanted columns. In this case, we will remove the last two columns and the client number (CLIENTNUM) columns."
   ]
  },
  {
   "cell_type": "code",
   "execution_count": 3,
   "id": "b4c4f83b",
   "metadata": {},
   "outputs": [],
   "source": [
    "df = df.iloc[:, 1:-2]  # Dropping the first and last two columns"
   ]
  },
  {
   "cell_type": "code",
   "execution_count": 4,
   "id": "79307ec4",
   "metadata": {},
   "outputs": [
    {
     "data": {
      "application/vnd.microsoft.datawrangler.viewer.v0+json": {
       "columns": [
        {
         "name": "index",
         "rawType": "int64",
         "type": "integer"
        },
        {
         "name": "Attrition_Flag",
         "rawType": "object",
         "type": "string"
        },
        {
         "name": "Customer_Age",
         "rawType": "int64",
         "type": "integer"
        },
        {
         "name": "Gender",
         "rawType": "object",
         "type": "string"
        },
        {
         "name": "Dependent_count",
         "rawType": "int64",
         "type": "integer"
        },
        {
         "name": "Education_Level",
         "rawType": "object",
         "type": "string"
        },
        {
         "name": "Marital_Status",
         "rawType": "object",
         "type": "string"
        },
        {
         "name": "Income_Category",
         "rawType": "object",
         "type": "string"
        },
        {
         "name": "Card_Category",
         "rawType": "object",
         "type": "string"
        },
        {
         "name": "Months_on_book",
         "rawType": "int64",
         "type": "integer"
        },
        {
         "name": "Total_Relationship_Count",
         "rawType": "int64",
         "type": "integer"
        },
        {
         "name": "Months_Inactive_12_mon",
         "rawType": "int64",
         "type": "integer"
        },
        {
         "name": "Contacts_Count_12_mon",
         "rawType": "int64",
         "type": "integer"
        },
        {
         "name": "Credit_Limit",
         "rawType": "float64",
         "type": "float"
        },
        {
         "name": "Total_Revolving_Bal",
         "rawType": "int64",
         "type": "integer"
        },
        {
         "name": "Avg_Open_To_Buy",
         "rawType": "float64",
         "type": "float"
        },
        {
         "name": "Total_Amt_Chng_Q4_Q1",
         "rawType": "float64",
         "type": "float"
        },
        {
         "name": "Total_Trans_Amt",
         "rawType": "int64",
         "type": "integer"
        },
        {
         "name": "Total_Trans_Ct",
         "rawType": "int64",
         "type": "integer"
        },
        {
         "name": "Total_Ct_Chng_Q4_Q1",
         "rawType": "float64",
         "type": "float"
        },
        {
         "name": "Avg_Utilization_Ratio",
         "rawType": "float64",
         "type": "float"
        }
       ],
       "ref": "7aee23e2-47e0-4a7b-ad6a-abb8d22c6024",
       "rows": [
        [
         "0",
         "Existing Customer",
         "45",
         "M",
         "3",
         "High School",
         "Married",
         "$60K - $80K",
         "Blue",
         "39",
         "5",
         "1",
         "3",
         "12691.0",
         "777",
         "11914.0",
         "1.335",
         "1144",
         "42",
         "1.625",
         "0.061"
        ],
        [
         "1",
         "Existing Customer",
         "49",
         "F",
         "5",
         "Graduate",
         "Single",
         "Less than $40K",
         "Blue",
         "44",
         "6",
         "1",
         "2",
         "8256.0",
         "864",
         "7392.0",
         "1.541",
         "1291",
         "33",
         "3.714",
         "0.105"
        ],
        [
         "2",
         "Existing Customer",
         "51",
         "M",
         "3",
         "Graduate",
         "Married",
         "$80K - $120K",
         "Blue",
         "36",
         "4",
         "1",
         "0",
         "3418.0",
         "0",
         "3418.0",
         "2.594",
         "1887",
         "20",
         "2.333",
         "0.0"
        ],
        [
         "3",
         "Existing Customer",
         "40",
         "F",
         "4",
         "High School",
         "Unknown",
         "Less than $40K",
         "Blue",
         "34",
         "3",
         "4",
         "1",
         "3313.0",
         "2517",
         "796.0",
         "1.405",
         "1171",
         "20",
         "2.333",
         "0.76"
        ],
        [
         "4",
         "Existing Customer",
         "40",
         "M",
         "3",
         "Uneducated",
         "Married",
         "$60K - $80K",
         "Blue",
         "21",
         "5",
         "1",
         "0",
         "4716.0",
         "0",
         "4716.0",
         "2.175",
         "816",
         "28",
         "2.5",
         "0.0"
        ]
       ],
       "shape": {
        "columns": 20,
        "rows": 5
       }
      },
      "text/html": [
       "<div>\n",
       "<style scoped>\n",
       "    .dataframe tbody tr th:only-of-type {\n",
       "        vertical-align: middle;\n",
       "    }\n",
       "\n",
       "    .dataframe tbody tr th {\n",
       "        vertical-align: top;\n",
       "    }\n",
       "\n",
       "    .dataframe thead th {\n",
       "        text-align: right;\n",
       "    }\n",
       "</style>\n",
       "<table border=\"1\" class=\"dataframe\">\n",
       "  <thead>\n",
       "    <tr style=\"text-align: right;\">\n",
       "      <th></th>\n",
       "      <th>Attrition_Flag</th>\n",
       "      <th>Customer_Age</th>\n",
       "      <th>Gender</th>\n",
       "      <th>Dependent_count</th>\n",
       "      <th>Education_Level</th>\n",
       "      <th>Marital_Status</th>\n",
       "      <th>Income_Category</th>\n",
       "      <th>Card_Category</th>\n",
       "      <th>Months_on_book</th>\n",
       "      <th>Total_Relationship_Count</th>\n",
       "      <th>Months_Inactive_12_mon</th>\n",
       "      <th>Contacts_Count_12_mon</th>\n",
       "      <th>Credit_Limit</th>\n",
       "      <th>Total_Revolving_Bal</th>\n",
       "      <th>Avg_Open_To_Buy</th>\n",
       "      <th>Total_Amt_Chng_Q4_Q1</th>\n",
       "      <th>Total_Trans_Amt</th>\n",
       "      <th>Total_Trans_Ct</th>\n",
       "      <th>Total_Ct_Chng_Q4_Q1</th>\n",
       "      <th>Avg_Utilization_Ratio</th>\n",
       "    </tr>\n",
       "  </thead>\n",
       "  <tbody>\n",
       "    <tr>\n",
       "      <th>0</th>\n",
       "      <td>Existing Customer</td>\n",
       "      <td>45</td>\n",
       "      <td>M</td>\n",
       "      <td>3</td>\n",
       "      <td>High School</td>\n",
       "      <td>Married</td>\n",
       "      <td>$60K - $80K</td>\n",
       "      <td>Blue</td>\n",
       "      <td>39</td>\n",
       "      <td>5</td>\n",
       "      <td>1</td>\n",
       "      <td>3</td>\n",
       "      <td>12691.0</td>\n",
       "      <td>777</td>\n",
       "      <td>11914.0</td>\n",
       "      <td>1.335</td>\n",
       "      <td>1144</td>\n",
       "      <td>42</td>\n",
       "      <td>1.625</td>\n",
       "      <td>0.061</td>\n",
       "    </tr>\n",
       "    <tr>\n",
       "      <th>1</th>\n",
       "      <td>Existing Customer</td>\n",
       "      <td>49</td>\n",
       "      <td>F</td>\n",
       "      <td>5</td>\n",
       "      <td>Graduate</td>\n",
       "      <td>Single</td>\n",
       "      <td>Less than $40K</td>\n",
       "      <td>Blue</td>\n",
       "      <td>44</td>\n",
       "      <td>6</td>\n",
       "      <td>1</td>\n",
       "      <td>2</td>\n",
       "      <td>8256.0</td>\n",
       "      <td>864</td>\n",
       "      <td>7392.0</td>\n",
       "      <td>1.541</td>\n",
       "      <td>1291</td>\n",
       "      <td>33</td>\n",
       "      <td>3.714</td>\n",
       "      <td>0.105</td>\n",
       "    </tr>\n",
       "    <tr>\n",
       "      <th>2</th>\n",
       "      <td>Existing Customer</td>\n",
       "      <td>51</td>\n",
       "      <td>M</td>\n",
       "      <td>3</td>\n",
       "      <td>Graduate</td>\n",
       "      <td>Married</td>\n",
       "      <td>$80K - $120K</td>\n",
       "      <td>Blue</td>\n",
       "      <td>36</td>\n",
       "      <td>4</td>\n",
       "      <td>1</td>\n",
       "      <td>0</td>\n",
       "      <td>3418.0</td>\n",
       "      <td>0</td>\n",
       "      <td>3418.0</td>\n",
       "      <td>2.594</td>\n",
       "      <td>1887</td>\n",
       "      <td>20</td>\n",
       "      <td>2.333</td>\n",
       "      <td>0.000</td>\n",
       "    </tr>\n",
       "    <tr>\n",
       "      <th>3</th>\n",
       "      <td>Existing Customer</td>\n",
       "      <td>40</td>\n",
       "      <td>F</td>\n",
       "      <td>4</td>\n",
       "      <td>High School</td>\n",
       "      <td>Unknown</td>\n",
       "      <td>Less than $40K</td>\n",
       "      <td>Blue</td>\n",
       "      <td>34</td>\n",
       "      <td>3</td>\n",
       "      <td>4</td>\n",
       "      <td>1</td>\n",
       "      <td>3313.0</td>\n",
       "      <td>2517</td>\n",
       "      <td>796.0</td>\n",
       "      <td>1.405</td>\n",
       "      <td>1171</td>\n",
       "      <td>20</td>\n",
       "      <td>2.333</td>\n",
       "      <td>0.760</td>\n",
       "    </tr>\n",
       "    <tr>\n",
       "      <th>4</th>\n",
       "      <td>Existing Customer</td>\n",
       "      <td>40</td>\n",
       "      <td>M</td>\n",
       "      <td>3</td>\n",
       "      <td>Uneducated</td>\n",
       "      <td>Married</td>\n",
       "      <td>$60K - $80K</td>\n",
       "      <td>Blue</td>\n",
       "      <td>21</td>\n",
       "      <td>5</td>\n",
       "      <td>1</td>\n",
       "      <td>0</td>\n",
       "      <td>4716.0</td>\n",
       "      <td>0</td>\n",
       "      <td>4716.0</td>\n",
       "      <td>2.175</td>\n",
       "      <td>816</td>\n",
       "      <td>28</td>\n",
       "      <td>2.500</td>\n",
       "      <td>0.000</td>\n",
       "    </tr>\n",
       "  </tbody>\n",
       "</table>\n",
       "</div>"
      ],
      "text/plain": [
       "      Attrition_Flag  Customer_Age Gender  Dependent_count Education_Level  \\\n",
       "0  Existing Customer            45      M                3     High School   \n",
       "1  Existing Customer            49      F                5        Graduate   \n",
       "2  Existing Customer            51      M                3        Graduate   \n",
       "3  Existing Customer            40      F                4     High School   \n",
       "4  Existing Customer            40      M                3      Uneducated   \n",
       "\n",
       "  Marital_Status Income_Category Card_Category  Months_on_book  \\\n",
       "0        Married     $60K - $80K          Blue              39   \n",
       "1         Single  Less than $40K          Blue              44   \n",
       "2        Married    $80K - $120K          Blue              36   \n",
       "3        Unknown  Less than $40K          Blue              34   \n",
       "4        Married     $60K - $80K          Blue              21   \n",
       "\n",
       "   Total_Relationship_Count  Months_Inactive_12_mon  Contacts_Count_12_mon  \\\n",
       "0                         5                       1                      3   \n",
       "1                         6                       1                      2   \n",
       "2                         4                       1                      0   \n",
       "3                         3                       4                      1   \n",
       "4                         5                       1                      0   \n",
       "\n",
       "   Credit_Limit  Total_Revolving_Bal  Avg_Open_To_Buy  Total_Amt_Chng_Q4_Q1  \\\n",
       "0       12691.0                  777          11914.0                 1.335   \n",
       "1        8256.0                  864           7392.0                 1.541   \n",
       "2        3418.0                    0           3418.0                 2.594   \n",
       "3        3313.0                 2517            796.0                 1.405   \n",
       "4        4716.0                    0           4716.0                 2.175   \n",
       "\n",
       "   Total_Trans_Amt  Total_Trans_Ct  Total_Ct_Chng_Q4_Q1  Avg_Utilization_Ratio  \n",
       "0             1144              42                1.625                  0.061  \n",
       "1             1291              33                3.714                  0.105  \n",
       "2             1887              20                2.333                  0.000  \n",
       "3             1171              20                2.333                  0.760  \n",
       "4              816              28                2.500                  0.000  "
      ]
     },
     "execution_count": 4,
     "metadata": {},
     "output_type": "execute_result"
    }
   ],
   "source": [
    "df.head()"
   ]
  },
  {
   "cell_type": "code",
   "execution_count": 5,
   "id": "dac04b03",
   "metadata": {},
   "outputs": [
    {
     "name": "stdout",
     "output_type": "stream",
     "text": [
      "<class 'pandas.core.frame.DataFrame'>\n",
      "RangeIndex: 10127 entries, 0 to 10126\n",
      "Data columns (total 20 columns):\n",
      " #   Column                    Non-Null Count  Dtype  \n",
      "---  ------                    --------------  -----  \n",
      " 0   Attrition_Flag            10127 non-null  object \n",
      " 1   Customer_Age              10127 non-null  int64  \n",
      " 2   Gender                    10127 non-null  object \n",
      " 3   Dependent_count           10127 non-null  int64  \n",
      " 4   Education_Level           10127 non-null  object \n",
      " 5   Marital_Status            10127 non-null  object \n",
      " 6   Income_Category           10127 non-null  object \n",
      " 7   Card_Category             10127 non-null  object \n",
      " 8   Months_on_book            10127 non-null  int64  \n",
      " 9   Total_Relationship_Count  10127 non-null  int64  \n",
      " 10  Months_Inactive_12_mon    10127 non-null  int64  \n",
      " 11  Contacts_Count_12_mon     10127 non-null  int64  \n",
      " 12  Credit_Limit              10127 non-null  float64\n",
      " 13  Total_Revolving_Bal       10127 non-null  int64  \n",
      " 14  Avg_Open_To_Buy           10127 non-null  float64\n",
      " 15  Total_Amt_Chng_Q4_Q1      10127 non-null  float64\n",
      " 16  Total_Trans_Amt           10127 non-null  int64  \n",
      " 17  Total_Trans_Ct            10127 non-null  int64  \n",
      " 18  Total_Ct_Chng_Q4_Q1       10127 non-null  float64\n",
      " 19  Avg_Utilization_Ratio     10127 non-null  float64\n",
      "dtypes: float64(5), int64(9), object(6)\n",
      "memory usage: 1.5+ MB\n"
     ]
    }
   ],
   "source": [
    "# Check the data types\n",
    "df.info()"
   ]
  },
  {
   "cell_type": "code",
   "execution_count": 6,
   "id": "326f3d61",
   "metadata": {},
   "outputs": [
    {
     "data": {
      "text/plain": [
       "(10127, 20)"
      ]
     },
     "execution_count": 6,
     "metadata": {},
     "output_type": "execute_result"
    }
   ],
   "source": [
    "df.shape"
   ]
  },
  {
   "cell_type": "code",
   "execution_count": null,
   "id": "cd24943a",
   "metadata": {},
   "outputs": [
    {
     "data": {
      "application/vnd.microsoft.datawrangler.viewer.v0+json": {
       "columns": [
        {
         "name": "Attrition_Flag",
         "rawType": "object",
         "type": "string"
        },
        {
         "name": "count",
         "rawType": "int64",
         "type": "integer"
        }
       ],
       "ref": "54afcb78-44a9-44d6-b287-835f3cc9dba0",
       "rows": [
        [
         "Existing Customer",
         "8500"
        ],
        [
         "Attrited Customer",
         "1627"
        ]
       ],
       "shape": {
        "columns": 1,
        "rows": 2
       }
      },
      "text/plain": [
       "Attrition_Flag\n",
       "Existing Customer    8500\n",
       "Attrited Customer    1627\n",
       "Name: count, dtype: int64"
      ]
     },
     "execution_count": 7,
     "metadata": {},
     "output_type": "execute_result"
    }
   ],
   "source": [
    "# Check the class distribution\n",
    "df[\"Attrition_Flag\"].value_counts()"
   ]
  },
  {
   "cell_type": "markdown",
   "id": "a76f2fe0",
   "metadata": {},
   "source": [
    "We observe that we have more samples of \"Existing Customer\" than \"Attrited Customer\". This means the model we will train using this dataset is expected to be biased towards the \"Existing Customer\", which means the model will predict most of the test instances as \"Existing Customer\". We will test this in the last part of the exercise."
   ]
  },
  {
   "cell_type": "markdown",
   "id": "b4cad0ab",
   "metadata": {},
   "source": [
    "#### 2.1 Note\n",
    "\n",
    "We have 19 features in this dataset. Using all the features will take a long time to train the model. Therefore, we will select a subset of the features to train our model. Ideally, we will measure correlations and chi^2 or other statistics to find the best set of variables to use. However, for this practical we select the following variables: Customer_Age (int64), Income_Category (object), Credit_Limit (float64), Total_Revolving_Bal (int64), Total_Trans_Amt (int64).\n",
    "\n",
    "Among our selected variables, Income category is a categorical variable. We need to encode this."
   ]
  },
  {
   "cell_type": "code",
   "execution_count": null,
   "id": "5f418a68",
   "metadata": {},
   "outputs": [],
   "source": [
    "# Encoding the categorical variables\n",
    "le = preprocessing.LabelEncoder()\n",
    "\n",
    "df[\"en_Income_Category\"] = le.fit_transform(df[\"Income_Category\"])\n",
    "df[\"en_Attrition_Flag\"] = le.fit_transform(df[\"Attrition_Flag\"])"
   ]
  },
  {
   "cell_type": "code",
   "execution_count": null,
   "id": "1ce0d780",
   "metadata": {},
   "outputs": [],
   "source": [
    "features = [\n",
    "    \"Customer_Age\",\n",
    "    \"en_Income_Category\",\n",
    "    \"Credit_Limit\",\n",
    "    \"Total_Revolving_Bal\",\n",
    "    \"Total_Trans_Amt\",\n",
    "]"
   ]
  },
  {
   "cell_type": "markdown",
   "id": "0ec8116c",
   "metadata": {},
   "source": [
    "### 3 Feature scaling"
   ]
  },
  {
   "cell_type": "code",
   "execution_count": null,
   "id": "d33070a5",
   "metadata": {},
   "outputs": [],
   "source": [
    "scaler = StandardScaler()\n",
    "\n",
    "X_scaled = scaler.fit_transform(df[features])\n",
    "\n",
    "# Reverting back to df\n",
    "X = pd.DataFrame(X_scaled)\n",
    "\n",
    "X[\"target\"] = df[\"en_Attrition_Flag\"]"
   ]
  },
  {
   "cell_type": "markdown",
   "id": "f9413d0b",
   "metadata": {},
   "source": [
    "### Building a SVM classifier\n",
    "\n",
    "___\n",
    "sklearn provides different SVM implementations:\n",
    "\n",
    "👉 [SVM Classification](https://scikit-learn.org/stable/modules/svm.html#svm-classification)\n",
    "\n",
    "We will explore three types of kernals in this practical: linear, polynomial, and rbf.\n",
    "___"
   ]
  },
  {
   "cell_type": "code",
   "execution_count": null,
   "id": "1a5b5208",
   "metadata": {},
   "outputs": [],
   "source": [
    "train, test = train_test_split(X, test_size=0.3, stratify=X[\"target\"])\n",
    "\n",
    "X_train = train.drop(\"target\", axis=1)\n",
    "y_train = train[\"target\"]\n",
    "\n",
    "X_test = test.drop(\"target\", axis=1)\n",
    "y_test = test[\"target\"]"
   ]
  },
  {
   "cell_type": "code",
   "execution_count": null,
   "id": "b23bcf10",
   "metadata": {},
   "outputs": [],
   "source": [
    "C = 1.0  # SVM regularization parameter\n",
    "svc = svm.SVC(kernel=\"linear\", C=C).fit(X_train, y_train)"
   ]
  },
  {
   "cell_type": "markdown",
   "id": "98ba4ea8",
   "metadata": {},
   "source": [
    "#### 4.1 Evaluate"
   ]
  },
  {
   "cell_type": "code",
   "execution_count": 16,
   "id": "69e383d2",
   "metadata": {},
   "outputs": [
    {
     "name": "stdout",
     "output_type": "stream",
     "text": [
      "Accuracy: 0.84\n"
     ]
    }
   ],
   "source": [
    "predictions = svc.predict(X_test)\n",
    "acc = accuracy_score(y_test, predictions)\n",
    "\n",
    "print(f\"Accuracy: {acc:.2f}\")"
   ]
  },
  {
   "cell_type": "code",
   "execution_count": 17,
   "id": "2c9a35d6",
   "metadata": {},
   "outputs": [
    {
     "data": {
      "text/plain": [
       "(3039, 5)"
      ]
     },
     "execution_count": 17,
     "metadata": {},
     "output_type": "execute_result"
    }
   ],
   "source": [
    "X_test.shape"
   ]
  },
  {
   "cell_type": "markdown",
   "id": "b58e3e86",
   "metadata": {},
   "source": [
    "The model is almost 84% accurate which seems to be a good model at the first attempt without tuning any params. However, as mentioned earlier, we have an imbalanced dataset and the model should be biased towards the majority class, in this case, \"Existing Customer\" which is encoded as 1.\n",
    "\n",
    "We now inspect the predictions of the model. We can print the predictions. We have 3039 test samples - the predictions array is too big. We can also count the number of 0s and 1s in the predictions array. To count the elements in predictions, we need to use the Python collections library."
   ]
  },
  {
   "cell_type": "code",
   "execution_count": 18,
   "id": "77b827fd",
   "metadata": {},
   "outputs": [
    {
     "name": "stdout",
     "output_type": "stream",
     "text": [
      "Predictions for the first 10 samples:\n",
      "Sample 1: Predicted = 1, Actual = 0\n",
      "Sample 2: Predicted = 1, Actual = 1\n",
      "Sample 3: Predicted = 1, Actual = 1\n",
      "Sample 4: Predicted = 1, Actual = 1\n",
      "Sample 5: Predicted = 1, Actual = 1\n",
      "Sample 6: Predicted = 1, Actual = 1\n",
      "Sample 7: Predicted = 1, Actual = 1\n",
      "Sample 8: Predicted = 1, Actual = 1\n",
      "Sample 9: Predicted = 1, Actual = 1\n",
      "Sample 10: Predicted = 1, Actual = 1\n"
     ]
    }
   ],
   "source": [
    "# Print the first 10 predictions\n",
    "print(\"Predictions for the first 10 samples:\")\n",
    "for i in range(10):\n",
    "    print(f\"Sample {i + 1}: Predicted = {predictions[i]}, Actual = {y_test.iloc[i]}\")"
   ]
  },
  {
   "cell_type": "code",
   "execution_count": 19,
   "id": "98acaa3b",
   "metadata": {},
   "outputs": [
    {
     "name": "stdout",
     "output_type": "stream",
     "text": [
      "Counter({1: 3039})\n"
     ]
    }
   ],
   "source": [
    "counter = collections.Counter(predictions.tolist())\n",
    "print(counter)"
   ]
  },
  {
   "cell_type": "markdown",
   "id": "b8eefb6a",
   "metadata": {},
   "source": [
    "Interestingly, we observe that the model has predicted all the test samples as instances of class 1, i.e., it does not predict class 0 at all. Still is has an accuracy of 84%.\n",
    "\n",
    "The above shows the problem with imbalanced dataset and the problem of accuracy measure."
   ]
  },
  {
   "cell_type": "markdown",
   "id": "af3951b1",
   "metadata": {},
   "source": [
    "#### 4.2 classification_report\n",
    "\n",
    "___\n",
    "sklearn provides a detailed classification performance report:\n",
    "\n",
    "👉 [sklearn.metrics: classification_report](https://scikit-learn.org/stable/modules/generated/sklearn.metrics.classification_report.html)\n",
    "\n",
    "___"
   ]
  },
  {
   "cell_type": "code",
   "execution_count": 21,
   "id": "267ddd9d",
   "metadata": {},
   "outputs": [
    {
     "name": "stdout",
     "output_type": "stream",
     "text": [
      "                   precision    recall  f1-score   support\n",
      "\n",
      "Attrited Customer       0.00      0.00      0.00       488\n",
      "Existing Customer       0.84      1.00      0.91      2551\n",
      "\n",
      "         accuracy                           0.84      3039\n",
      "        macro avg       0.42      0.50      0.46      3039\n",
      "     weighted avg       0.70      0.84      0.77      3039\n",
      "\n"
     ]
    },
    {
     "name": "stderr",
     "output_type": "stream",
     "text": [
      "c:\\Users\\michael.hudson\\OneDrive - Western NSW Primary Health Network\\Hudson\\UniSA\\INFS3081\\INFS3081-Activities\\.venv\\Lib\\site-packages\\sklearn\\metrics\\_classification.py:1565: UndefinedMetricWarning: Precision is ill-defined and being set to 0.0 in labels with no predicted samples. Use `zero_division` parameter to control this behavior.\n",
      "  _warn_prf(average, modifier, f\"{metric.capitalize()} is\", len(result))\n",
      "c:\\Users\\michael.hudson\\OneDrive - Western NSW Primary Health Network\\Hudson\\UniSA\\INFS3081\\INFS3081-Activities\\.venv\\Lib\\site-packages\\sklearn\\metrics\\_classification.py:1565: UndefinedMetricWarning: Precision is ill-defined and being set to 0.0 in labels with no predicted samples. Use `zero_division` parameter to control this behavior.\n",
      "  _warn_prf(average, modifier, f\"{metric.capitalize()} is\", len(result))\n",
      "c:\\Users\\michael.hudson\\OneDrive - Western NSW Primary Health Network\\Hudson\\UniSA\\INFS3081\\INFS3081-Activities\\.venv\\Lib\\site-packages\\sklearn\\metrics\\_classification.py:1565: UndefinedMetricWarning: Precision is ill-defined and being set to 0.0 in labels with no predicted samples. Use `zero_division` parameter to control this behavior.\n",
      "  _warn_prf(average, modifier, f\"{metric.capitalize()} is\", len(result))\n"
     ]
    }
   ],
   "source": [
    "target_names = [\"Attrited Customer\", \"Existing Customer\"]\n",
    "print(classification_report(y_test, predictions, target_names=target_names))"
   ]
  },
  {
   "cell_type": "markdown",
   "id": "bddbaa1f",
   "metadata": {},
   "source": [
    "The classification report shows that we have 488 instances of attrited customers in our test set and the model failed to predict any of them."
   ]
  },
  {
   "cell_type": "markdown",
   "id": "1bb3e91f",
   "metadata": {},
   "source": [
    "#### 4.3 Dealing with imbalanced dataset\n",
    "\n",
    "The simplest thing we can do is to balance the dataset by sampling the majority class to make the distribution equal."
   ]
  },
  {
   "cell_type": "code",
   "execution_count": 22,
   "id": "dd66ac59",
   "metadata": {},
   "outputs": [
    {
     "data": {
      "text/plain": [
       "(1627, 6)"
      ]
     },
     "execution_count": 22,
     "metadata": {},
     "output_type": "execute_result"
    }
   ],
   "source": [
    "df_minor = X.loc[X[\"target\"] == 0]\n",
    "df_minor.shape"
   ]
  },
  {
   "cell_type": "code",
   "execution_count": 23,
   "id": "f365acc1",
   "metadata": {},
   "outputs": [
    {
     "data": {
      "text/plain": [
       "(1627, 6)"
      ]
     },
     "execution_count": 23,
     "metadata": {},
     "output_type": "execute_result"
    }
   ],
   "source": [
    "# Sampling the majority class\n",
    "df_major = X.loc[X[\"target\"] == 1].sample(n=df_minor.shape[0])\n",
    "df_major.shape"
   ]
  },
  {
   "cell_type": "markdown",
   "id": "a240694c",
   "metadata": {},
   "source": [
    "df_major and df_minor have the same number of samples. We need to merge them together and use them for training."
   ]
  },
  {
   "cell_type": "code",
   "execution_count": 25,
   "id": "e3cfe485",
   "metadata": {},
   "outputs": [
    {
     "data": {
      "application/vnd.microsoft.datawrangler.viewer.v0+json": {
       "columns": [
        {
         "name": "index",
         "rawType": "int64",
         "type": "integer"
        },
        {
         "name": "0",
         "rawType": "float64",
         "type": "float"
        },
        {
         "name": "1",
         "rawType": "float64",
         "type": "float"
        },
        {
         "name": "2",
         "rawType": "float64",
         "type": "float"
        },
        {
         "name": "3",
         "rawType": "float64",
         "type": "float"
        },
        {
         "name": "4",
         "rawType": "float64",
         "type": "float"
        },
        {
         "name": "target",
         "rawType": "int64",
         "type": "integer"
        }
       ],
       "ref": "f7c80300-4d23-4344-acd4-c75d1d0b6c76",
       "rows": [
        [
         "4848",
         "-0.7891255345317383",
         "1.4196701675872543",
         "-0.46201608750874534",
         "0.3990270536762952",
         "-0.16399547070382006",
         "1"
        ],
        [
         "3485",
         "0.45831437433967187",
         "1.4196701675872543",
         "1.657075588471163",
         "1.5205722491810283",
         "-0.22728732683446579",
         "1"
        ],
        [
         "2458",
         "0.9572903378882359",
         "0.09043571981024574",
         "0.7616413468633695",
         "1.6371442333965092",
         "-0.4616143848809495",
         "1"
        ],
        [
         "3771",
         "-0.9138695254188793",
         "-0.5741815040782585",
         "1.7497218936362848",
         "0.38307509794154515",
         "-0.2646736790604751",
         "1"
        ],
        [
         "4750",
         "-0.040661589208892186",
         "-0.5741815040782585",
         "-0.6048366387015341",
         "-1.4268583411935547",
         "-0.08480705535896561",
         "1"
        ]
       ],
       "shape": {
        "columns": 6,
        "rows": 5
       }
      },
      "text/html": [
       "<div>\n",
       "<style scoped>\n",
       "    .dataframe tbody tr th:only-of-type {\n",
       "        vertical-align: middle;\n",
       "    }\n",
       "\n",
       "    .dataframe tbody tr th {\n",
       "        vertical-align: top;\n",
       "    }\n",
       "\n",
       "    .dataframe thead th {\n",
       "        text-align: right;\n",
       "    }\n",
       "</style>\n",
       "<table border=\"1\" class=\"dataframe\">\n",
       "  <thead>\n",
       "    <tr style=\"text-align: right;\">\n",
       "      <th></th>\n",
       "      <th>0</th>\n",
       "      <th>1</th>\n",
       "      <th>2</th>\n",
       "      <th>3</th>\n",
       "      <th>4</th>\n",
       "      <th>target</th>\n",
       "    </tr>\n",
       "  </thead>\n",
       "  <tbody>\n",
       "    <tr>\n",
       "      <th>4848</th>\n",
       "      <td>-0.789126</td>\n",
       "      <td>1.419670</td>\n",
       "      <td>-0.462016</td>\n",
       "      <td>0.399027</td>\n",
       "      <td>-0.163995</td>\n",
       "      <td>1</td>\n",
       "    </tr>\n",
       "    <tr>\n",
       "      <th>3485</th>\n",
       "      <td>0.458314</td>\n",
       "      <td>1.419670</td>\n",
       "      <td>1.657076</td>\n",
       "      <td>1.520572</td>\n",
       "      <td>-0.227287</td>\n",
       "      <td>1</td>\n",
       "    </tr>\n",
       "    <tr>\n",
       "      <th>2458</th>\n",
       "      <td>0.957290</td>\n",
       "      <td>0.090436</td>\n",
       "      <td>0.761641</td>\n",
       "      <td>1.637144</td>\n",
       "      <td>-0.461614</td>\n",
       "      <td>1</td>\n",
       "    </tr>\n",
       "    <tr>\n",
       "      <th>3771</th>\n",
       "      <td>-0.913870</td>\n",
       "      <td>-0.574182</td>\n",
       "      <td>1.749722</td>\n",
       "      <td>0.383075</td>\n",
       "      <td>-0.264674</td>\n",
       "      <td>1</td>\n",
       "    </tr>\n",
       "    <tr>\n",
       "      <th>4750</th>\n",
       "      <td>-0.040662</td>\n",
       "      <td>-0.574182</td>\n",
       "      <td>-0.604837</td>\n",
       "      <td>-1.426858</td>\n",
       "      <td>-0.084807</td>\n",
       "      <td>1</td>\n",
       "    </tr>\n",
       "  </tbody>\n",
       "</table>\n",
       "</div>"
      ],
      "text/plain": [
       "             0         1         2         3         4  target\n",
       "4848 -0.789126  1.419670 -0.462016  0.399027 -0.163995       1\n",
       "3485  0.458314  1.419670  1.657076  1.520572 -0.227287       1\n",
       "2458  0.957290  0.090436  0.761641  1.637144 -0.461614       1\n",
       "3771 -0.913870 -0.574182  1.749722  0.383075 -0.264674       1\n",
       "4750 -0.040662 -0.574182 -0.604837 -1.426858 -0.084807       1"
      ]
     },
     "execution_count": 25,
     "metadata": {},
     "output_type": "execute_result"
    }
   ],
   "source": [
    "df_sub = pd.concat([df_major, df_minor], axis=0)\n",
    "df_sub.head()"
   ]
  },
  {
   "cell_type": "code",
   "execution_count": 26,
   "id": "4eda1458",
   "metadata": {},
   "outputs": [
    {
     "data": {
      "text/plain": [
       "(3254, 6)"
      ]
     },
     "execution_count": 26,
     "metadata": {},
     "output_type": "execute_result"
    }
   ],
   "source": [
    "df_sub.shape"
   ]
  },
  {
   "cell_type": "code",
   "execution_count": 27,
   "id": "adb9283c",
   "metadata": {},
   "outputs": [
    {
     "data": {
      "application/vnd.microsoft.datawrangler.viewer.v0+json": {
       "columns": [
        {
         "name": "index",
         "rawType": "int64",
         "type": "integer"
        },
        {
         "name": "0",
         "rawType": "float64",
         "type": "float"
        },
        {
         "name": "1",
         "rawType": "float64",
         "type": "float"
        },
        {
         "name": "2",
         "rawType": "float64",
         "type": "float"
        },
        {
         "name": "3",
         "rawType": "float64",
         "type": "float"
        },
        {
         "name": "4",
         "rawType": "float64",
         "type": "float"
        },
        {
         "name": "target",
         "rawType": "int64",
         "type": "integer"
        }
       ],
       "ref": "37c09af7-f727-46c1-9d38-6d51ebd1608d",
       "rows": [
        [
         "0",
         "-1.0386135163060204",
         "0.7550529436987501",
         "-0.6523701349382713",
         "-1.4268583411935547",
         "-0.48634236588082974",
         "0"
        ],
        [
         "1",
         "0.08408240167824883",
         "0.7550529436987501",
         "-0.7260910666017294",
         "-1.1470855790764003",
         "-0.5393308965948588",
         "0"
        ],
        [
         "2",
         "1.4562663014368",
         "-1.9034159518552671",
         "0.4473921217427185",
         "1.4702622349406627",
         "0.006156589033450818",
         "1"
        ],
        [
         "3",
         "-0.040661589208892186",
         "0.09043571981024574",
         "2.848053744180521",
         "-0.23046166108730226",
         "2.4924962024261665",
         "1"
        ],
        [
         "4",
         "1.7057542832110821",
         "1.4196701675872543",
         "0.5149513038940069",
         "0.9953847834523348",
         "2.9237639662931247",
         "1"
        ]
       ],
       "shape": {
        "columns": 6,
        "rows": 5
       }
      },
      "text/html": [
       "<div>\n",
       "<style scoped>\n",
       "    .dataframe tbody tr th:only-of-type {\n",
       "        vertical-align: middle;\n",
       "    }\n",
       "\n",
       "    .dataframe tbody tr th {\n",
       "        vertical-align: top;\n",
       "    }\n",
       "\n",
       "    .dataframe thead th {\n",
       "        text-align: right;\n",
       "    }\n",
       "</style>\n",
       "<table border=\"1\" class=\"dataframe\">\n",
       "  <thead>\n",
       "    <tr style=\"text-align: right;\">\n",
       "      <th></th>\n",
       "      <th>0</th>\n",
       "      <th>1</th>\n",
       "      <th>2</th>\n",
       "      <th>3</th>\n",
       "      <th>4</th>\n",
       "      <th>target</th>\n",
       "    </tr>\n",
       "  </thead>\n",
       "  <tbody>\n",
       "    <tr>\n",
       "      <th>0</th>\n",
       "      <td>-1.038614</td>\n",
       "      <td>0.755053</td>\n",
       "      <td>-0.652370</td>\n",
       "      <td>-1.426858</td>\n",
       "      <td>-0.486342</td>\n",
       "      <td>0</td>\n",
       "    </tr>\n",
       "    <tr>\n",
       "      <th>1</th>\n",
       "      <td>0.084082</td>\n",
       "      <td>0.755053</td>\n",
       "      <td>-0.726091</td>\n",
       "      <td>-1.147086</td>\n",
       "      <td>-0.539331</td>\n",
       "      <td>0</td>\n",
       "    </tr>\n",
       "    <tr>\n",
       "      <th>2</th>\n",
       "      <td>1.456266</td>\n",
       "      <td>-1.903416</td>\n",
       "      <td>0.447392</td>\n",
       "      <td>1.470262</td>\n",
       "      <td>0.006157</td>\n",
       "      <td>1</td>\n",
       "    </tr>\n",
       "    <tr>\n",
       "      <th>3</th>\n",
       "      <td>-0.040662</td>\n",
       "      <td>0.090436</td>\n",
       "      <td>2.848054</td>\n",
       "      <td>-0.230462</td>\n",
       "      <td>2.492496</td>\n",
       "      <td>1</td>\n",
       "    </tr>\n",
       "    <tr>\n",
       "      <th>4</th>\n",
       "      <td>1.705754</td>\n",
       "      <td>1.419670</td>\n",
       "      <td>0.514951</td>\n",
       "      <td>0.995385</td>\n",
       "      <td>2.923764</td>\n",
       "      <td>1</td>\n",
       "    </tr>\n",
       "  </tbody>\n",
       "</table>\n",
       "</div>"
      ],
      "text/plain": [
       "          0         1         2         3         4  target\n",
       "0 -1.038614  0.755053 -0.652370 -1.426858 -0.486342       0\n",
       "1  0.084082  0.755053 -0.726091 -1.147086 -0.539331       0\n",
       "2  1.456266 -1.903416  0.447392  1.470262  0.006157       1\n",
       "3 -0.040662  0.090436  2.848054 -0.230462  2.492496       1\n",
       "4  1.705754  1.419670  0.514951  0.995385  2.923764       1"
      ]
     },
     "execution_count": 27,
     "metadata": {},
     "output_type": "execute_result"
    }
   ],
   "source": [
    "# Shuffle the dataset. In the current version the first 1627 are of class 1 and the last 1627 are of class 0\n",
    "df_sub = df_sub.sample(frac=1).reset_index(drop=True)\n",
    "df_sub.head()"
   ]
  },
  {
   "cell_type": "code",
   "execution_count": 28,
   "id": "b0bff662",
   "metadata": {},
   "outputs": [],
   "source": [
    "# Training model\n",
    "\n",
    "train, test = train_test_split(df_sub, test_size=0.3, stratify=df_sub[\"target\"])\n",
    "X_train = train.drop(\"target\", axis=1)\n",
    "y_train = train[\"target\"]\n",
    "X_test = test.drop(\"target\", axis=1)\n",
    "y_test = test[\"target\"]\n",
    "\n",
    "svc = svm.SVC(kernel=\"linear\", C=1).fit(X_train, y_train)"
   ]
  },
  {
   "cell_type": "code",
   "execution_count": 29,
   "id": "c032aa00",
   "metadata": {},
   "outputs": [
    {
     "name": "stdout",
     "output_type": "stream",
     "text": [
      "Accuracy: 0.72\n"
     ]
    }
   ],
   "source": [
    "# Evaluate model\n",
    "predictions = svc.predict(X_test)\n",
    "acc = accuracy_score(y_test, predictions)\n",
    "print(f\"Accuracy: {acc:.2f}\")"
   ]
  },
  {
   "cell_type": "code",
   "execution_count": 30,
   "id": "9bccad4e",
   "metadata": {},
   "outputs": [
    {
     "name": "stdout",
     "output_type": "stream",
     "text": [
      "Counter({1: 543, 0: 434})\n"
     ]
    }
   ],
   "source": [
    "counter = collections.Counter(predictions.tolist())\n",
    "print(counter)"
   ]
  },
  {
   "cell_type": "code",
   "execution_count": 31,
   "id": "f3607df8",
   "metadata": {},
   "outputs": [
    {
     "name": "stdout",
     "output_type": "stream",
     "text": [
      "                   precision    recall  f1-score   support\n",
      "\n",
      "Attrited Customer       0.74      0.66      0.70       488\n",
      "Existing Customer       0.70      0.77      0.73       489\n",
      "\n",
      "         accuracy                           0.72       977\n",
      "        macro avg       0.72      0.72      0.72       977\n",
      "     weighted avg       0.72      0.72      0.72       977\n",
      "\n"
     ]
    }
   ],
   "source": [
    "print(classification_report(y_test, predictions, target_names=target_names))"
   ]
  },
  {
   "cell_type": "markdown",
   "id": "d0cc5aed",
   "metadata": {},
   "source": [
    "Though the new model predicts both classes, the performance is mediocre. Use other types of kernels and compare their performances."
   ]
  },
  {
   "cell_type": "code",
   "execution_count": 32,
   "id": "d4b73489",
   "metadata": {},
   "outputs": [],
   "source": [
    "rbf_svc = svm.SVC(kernel=\"rbf\", gamma=0.7, C=C).fit(X_train, y_train)\n",
    "poly_svc = svm.SVC(kernel=\"poly\", degree=4, C=C).fit(X_train, y_train)"
   ]
  },
  {
   "cell_type": "code",
   "execution_count": null,
   "id": "b9497735",
   "metadata": {},
   "outputs": [
    {
     "name": "stdout",
     "output_type": "stream",
     "text": [
      "Accuracy of the model with rbf kernel: 0.79\n",
      "Accuracy of the model with poly kernel: 0.73\n"
     ]
    }
   ],
   "source": [
    "predictions = rbf_svc.predict(X_test)\n",
    "print(\n",
    "    f\"Accuracy of the model with rbf kernel: {accuracy_score(y_test, predictions):.2f}\"\n",
    ")\n",
    "\n",
    "predictions = poly_svc.predict(X_test)\n",
    "print(\n",
    "    f\"Accuracy of the model with poly kernel: {accuracy_score(y_test, predictions):.2f}\"\n",
    ")"
   ]
  },
  {
   "cell_type": "markdown",
   "id": "9a2af250",
   "metadata": {},
   "source": [
    "We observe that rbf kernel gives the most promising model for our dataset. We can also find the support vectors."
   ]
  },
  {
   "cell_type": "code",
   "execution_count": 34,
   "id": "28df0d02",
   "metadata": {},
   "outputs": [
    {
     "data": {
      "text/plain": [
       "array([594, 635], dtype=int32)"
      ]
     },
     "execution_count": 34,
     "metadata": {},
     "output_type": "execute_result"
    }
   ],
   "source": [
    "rbf_svc.n_support_"
   ]
  },
  {
   "cell_type": "code",
   "execution_count": 35,
   "id": "77b44f65",
   "metadata": {},
   "outputs": [
    {
     "data": {
      "text/plain": [
       "array([[ 1.08203433,  0.09043572,  2.84805374,  1.52793469, -0.9470482 ],\n",
       "       [-1.2881015 ,  0.75505294, -0.62222157,  0.21742017, -0.64854615],\n",
       "       [-1.53758948,  0.09043572,  2.84805374, -1.42685834,  1.4050538 ],\n",
       "       ...,\n",
       "       [ 1.33152231,  1.41967017, -0.14160511,  0.79905302, -0.88728891],\n",
       "       [-1.03861352, -0.5741815 , -0.29619901, -0.0758504 , -0.7453974 ],\n",
       "       [-0.66438154, -1.23879873,  0.45905543,  1.6616857 , -0.97236494]],\n",
       "      shape=(1229, 5))"
      ]
     },
     "execution_count": 35,
     "metadata": {},
     "output_type": "execute_result"
    }
   ],
   "source": [
    "rbf_svc.support_vectors_"
   ]
  },
  {
   "cell_type": "markdown",
   "id": "f5a5d285",
   "metadata": {},
   "source": [
    "In the above, rbf_svc.n_support_ shows that the model has learned 594 support vectors for class 0 and 635 support vectors for class 1.\n",
    "\n",
    "rbf_svc.support_vectors_ shows the support vectors for each class."
   ]
  }
 ],
 "metadata": {
  "kernelspec": {
   "display_name": ".venv",
   "language": "python",
   "name": "python3"
  },
  "language_info": {
   "codemirror_mode": {
    "name": "ipython",
    "version": 3
   },
   "file_extension": ".py",
   "mimetype": "text/x-python",
   "name": "python",
   "nbconvert_exporter": "python",
   "pygments_lexer": "ipython3",
   "version": "3.11.7"
  }
 },
 "nbformat": 4,
 "nbformat_minor": 5
}
